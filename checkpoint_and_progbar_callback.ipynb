{
  "nbformat": 4,
  "nbformat_minor": 0,
  "metadata": {
    "colab": {
      "name": "checkpoint and progbar callback.ipynb",
      "version": "0.3.2",
      "provenance": [],
      "include_colab_link": true
    },
    "kernelspec": {
      "name": "python3",
      "display_name": "Python 3"
    },
    "accelerator": "GPU"
  },
  "cells": [
    {
      "cell_type": "markdown",
      "metadata": {
        "id": "view-in-github",
        "colab_type": "text"
      },
      "source": [
        "<a href=\"https://colab.research.google.com/github/manoj0237/Deeplearning/blob/master/checkpoint_and_progbar_callback.ipynb\" target=\"_parent\"><img src=\"https://colab.research.google.com/assets/colab-badge.svg\" alt=\"Open In Colab\"/></a>"
      ]
    },
    {
      "metadata": {
        "id": "aMETcR5iP8B9",
        "colab_type": "code",
        "colab": {
          "base_uri": "https://localhost:8080/",
          "height": 35
        },
        "outputId": "4c21a3b6-32c8-455b-d452-93ce2b9ce769"
      },
      "cell_type": "code",
      "source": [
        "from __future__ import print_function\n",
        "import keras\n",
        "from keras.datasets import mnist\n",
        "from keras.models import Sequential\n",
        "from keras.layers import Dense, Dropout\n",
        "from keras.optimizers import RMSprop\n",
        "from keras.models import load_model\n",
        "import h5py\n",
        "from keras.callbacks import ModelCheckpoint, ProgbarLogger"
      ],
      "execution_count": 1,
      "outputs": [
        {
          "output_type": "stream",
          "text": [
            "Using TensorFlow backend.\n"
          ],
          "name": "stderr"
        }
      ]
    },
    {
      "metadata": {
        "id": "Mvk-04LWP8CE",
        "colab_type": "code",
        "colab": {}
      },
      "cell_type": "code",
      "source": [
        "batch_size =128\n",
        "num_classes =10\n",
        "epochs=10"
      ],
      "execution_count": 0,
      "outputs": []
    },
    {
      "metadata": {
        "id": "agxHvzMRP8CM",
        "colab_type": "code",
        "colab": {
          "base_uri": "https://localhost:8080/",
          "height": 52
        },
        "outputId": "c90dbc61-4ffe-438a-d1d7-3b7a0242de0d"
      },
      "cell_type": "code",
      "source": [
        "(trainimages, trainlabels), (testimages,testlabels)=mnist.load_data()"
      ],
      "execution_count": 3,
      "outputs": [
        {
          "output_type": "stream",
          "text": [
            "Downloading data from https://s3.amazonaws.com/img-datasets/mnist.npz\n",
            "11493376/11490434 [==============================] - 9s 1us/step\n"
          ],
          "name": "stdout"
        }
      ]
    },
    {
      "metadata": {
        "id": "K_H7ZXn3P8CT",
        "colab_type": "code",
        "colab": {
          "base_uri": "https://localhost:8080/",
          "height": 35
        },
        "outputId": "9ec2f71a-12a6-42d0-894c-dd2a97e5f52c"
      },
      "cell_type": "code",
      "source": [
        "print(trainimages.ndim)"
      ],
      "execution_count": 4,
      "outputs": [
        {
          "output_type": "stream",
          "text": [
            "3\n"
          ],
          "name": "stdout"
        }
      ]
    },
    {
      "metadata": {
        "id": "NA71hQ1KP8Ce",
        "colab_type": "code",
        "colab": {}
      },
      "cell_type": "code",
      "source": [
        "trainimages=trainimages.reshape(60000,784)\n",
        "testimages=testimages.reshape(10000,784)"
      ],
      "execution_count": 0,
      "outputs": []
    },
    {
      "metadata": {
        "id": "2Gj3Ws1rP8Cl",
        "colab_type": "code",
        "colab": {}
      },
      "cell_type": "code",
      "source": [
        "trainimages=trainimages.astype('float32')\n",
        "testimages=testimages.astype('float32')\n",
        "trainimages/=255\n",
        "testimages/=255"
      ],
      "execution_count": 0,
      "outputs": []
    },
    {
      "metadata": {
        "id": "TY5PxtcRP8Cs",
        "colab_type": "code",
        "colab": {
          "base_uri": "https://localhost:8080/",
          "height": 52
        },
        "outputId": "ba9ecade-54b9-4050-ce9d-ecab77dfe0fc"
      },
      "cell_type": "code",
      "source": [
        "print(trainimages.shape[0], 'train examples')\n",
        "print(testimages.shape[0], 'test examples')"
      ],
      "execution_count": 7,
      "outputs": [
        {
          "output_type": "stream",
          "text": [
            "60000 train examples\n",
            "10000 test examples\n"
          ],
          "name": "stdout"
        }
      ]
    },
    {
      "metadata": {
        "id": "w6nJ3P2fP8C3",
        "colab_type": "code",
        "colab": {}
      },
      "cell_type": "code",
      "source": [
        "trainlabels=keras.utils.to_categorical(trainlabels, num_classes)\n",
        "testlabels=keras.utils.to_categorical(testlabels,num_classes)"
      ],
      "execution_count": 0,
      "outputs": []
    },
    {
      "metadata": {
        "id": "TO4KiaE2P8C7",
        "colab_type": "code",
        "colab": {}
      },
      "cell_type": "code",
      "source": [
        "model= Sequential()\n",
        "model.add(Dense(512,activation='relu', input_shape=(784,)))\n",
        "model.add(Dropout(0.5))\n",
        "model.add(Dense(512,activation='relu'))\n",
        "model.add(Dropout(0.5))\n",
        "model.add(Dense(num_classes,activation='softmax'))"
      ],
      "execution_count": 0,
      "outputs": []
    },
    {
      "metadata": {
        "id": "FCBcPxFWP8DB",
        "colab_type": "code",
        "colab": {}
      },
      "cell_type": "code",
      "source": [
        "model.compile(loss=\"categorical_crossentropy\",optimizer=RMSprop(),metrics=['accuracy'])"
      ],
      "execution_count": 0,
      "outputs": []
    },
    {
      "metadata": {
        "id": "pPcmmPM7P8DG",
        "colab_type": "text"
      },
      "cell_type": "markdown",
      "source": [
        "# checkpoint callback"
      ]
    },
    {
      "metadata": {
        "id": "nEkHAKf9P8DH",
        "colab_type": "code",
        "colab": {
          "base_uri": "https://localhost:8080/",
          "height": 381
        },
        "outputId": "08b3b945-84a9-4996-c120-447c9294897d"
      },
      "cell_type": "code",
      "source": [
        "filepath=\"weights.best.hdf5\"\n",
        "checkpoint = ModelCheckpoint(filepath, monitor='val_acc', verbose=1, save_best_only=True, mode='max')\n",
        "#checkpoint = ModelCheckpoint(filepath, monitor='val_acc', verbose=1, save_best_only=True, mode='max')\n",
        "callbacks_list = [checkpoint]\n",
        "# Fit the model\n",
        "model.fit(trainimages, trainlabels,\n",
        "                    batch_size=batch_size,\n",
        "                    epochs=epochs,\n",
        "                    validation_data=(testimages, testlabels),callbacks=callbacks_list, verbose=0)"
      ],
      "execution_count": 11,
      "outputs": [
        {
          "output_type": "stream",
          "text": [
            "\n",
            "Epoch 00001: val_acc improved from -inf to 0.95910, saving model to weights.best.hdf5\n",
            "\n",
            "Epoch 00002: val_acc improved from 0.95910 to 0.96820, saving model to weights.best.hdf5\n",
            "\n",
            "Epoch 00003: val_acc improved from 0.96820 to 0.97530, saving model to weights.best.hdf5\n",
            "\n",
            "Epoch 00004: val_acc improved from 0.97530 to 0.97640, saving model to weights.best.hdf5\n",
            "\n",
            "Epoch 00005: val_acc improved from 0.97640 to 0.97860, saving model to weights.best.hdf5\n",
            "\n",
            "Epoch 00006: val_acc improved from 0.97860 to 0.97930, saving model to weights.best.hdf5\n",
            "\n",
            "Epoch 00007: val_acc did not improve from 0.97930\n",
            "\n",
            "Epoch 00008: val_acc improved from 0.97930 to 0.98170, saving model to weights.best.hdf5\n",
            "\n",
            "Epoch 00009: val_acc did not improve from 0.98170\n",
            "\n",
            "Epoch 00010: val_acc did not improve from 0.98170\n"
          ],
          "name": "stdout"
        },
        {
          "output_type": "execute_result",
          "data": {
            "text/plain": [
              "<keras.callbacks.History at 0x7f08560f2908>"
            ]
          },
          "metadata": {
            "tags": []
          },
          "execution_count": 11
        }
      ]
    },
    {
      "metadata": {
        "id": "r_lJ5NkvP8DN",
        "colab_type": "text"
      },
      "cell_type": "markdown",
      "source": [
        "# Progbar Logger"
      ]
    },
    {
      "metadata": {
        "id": "VW-qZ6V6P8DO",
        "colab_type": "code",
        "colab": {
          "base_uri": "https://localhost:8080/",
          "height": 745
        },
        "outputId": "719ed20c-caa7-4c4d-ab16-1b6c0f05a036"
      },
      "cell_type": "code",
      "source": [
        "progbar=ProgbarLogger(count_mode='samples', stateful_metrics=None)\n",
        "\n",
        "callbacks_list = [progbar]\n",
        "# Fit the model\n",
        "model.fit(trainimages, trainlabels,\n",
        "                    batch_size=batch_size,\n",
        "                    epochs=epochs,\n",
        "                    validation_data=(testimages, testlabels),callbacks=callbacks_list, verbose=1)"
      ],
      "execution_count": 12,
      "outputs": [
        {
          "output_type": "stream",
          "text": [
            "Train on 60000 samples, validate on 10000 samples\n",
            "Epoch 1/10\n",
            "Epoch 1/10\n",
            "60000/60000 [==============================] - 3s 49us/step - loss: 0.0813 - acc: 0.9795 - val_loss: 0.0876 - val_acc: 0.9823\n",
            "60000/60000 [==============================] - 3s 49us/step - loss: 0.0813 - acc: 0.9795 - val_loss: 0.0876 - val_acc: 0.9823\n",
            "Epoch 2/10\n",
            "Epoch 2/10\n",
            "60000/60000 [==============================] - 3s 49us/step - loss: 0.0793 - acc: 0.9798 - val_loss: 0.0894 - val_acc: 0.9825\n",
            "60000/60000 [==============================] - 3s 49us/step - loss: 0.0793 - acc: 0.9798 - val_loss: 0.0894 - val_acc: 0.9825\n",
            "Epoch 3/10\n",
            "Epoch 3/10\n",
            "60000/60000 [==============================] - 3s 50us/step - loss: 0.0800 - acc: 0.9802 - val_loss: 0.0894 - val_acc: 0.9829\n",
            "60000/60000 [==============================] - 3s 50us/step - loss: 0.0800 - acc: 0.9802 - val_loss: 0.0894 - val_acc: 0.9829\n",
            "Epoch 4/10\n",
            "Epoch 4/10\n",
            "60000/60000 [==============================] - 3s 49us/step - loss: 0.0787 - acc: 0.9808 - val_loss: 0.0918 - val_acc: 0.9808\n",
            "60000/60000 [==============================] - 3s 50us/step - loss: 0.0787 - acc: 0.9808 - val_loss: 0.0918 - val_acc: 0.9808\n",
            "Epoch 5/10\n",
            "Epoch 5/10\n",
            "60000/60000 [==============================] - 3s 49us/step - loss: 0.0775 - acc: 0.9811 - val_loss: 0.0945 - val_acc: 0.9814\n",
            "60000/60000 [==============================] - 3s 49us/step - loss: 0.0775 - acc: 0.9811 - val_loss: 0.0945 - val_acc: 0.9814\n",
            "Epoch 6/10\n",
            "Epoch 6/10\n",
            "60000/60000 [==============================] - 3s 50us/step - loss: 0.0778 - acc: 0.9809 - val_loss: 0.0924 - val_acc: 0.9832\n",
            "60000/60000 [==============================] - 3s 50us/step - loss: 0.0778 - acc: 0.9809 - val_loss: 0.0924 - val_acc: 0.9832\n",
            "Epoch 7/10\n",
            "Epoch 7/10\n",
            "60000/60000 [==============================] - 3s 49us/step - loss: 0.0740 - acc: 0.9825 - val_loss: 0.0894 - val_acc: 0.9822\n",
            "60000/60000 [==============================] - 3s 49us/step - loss: 0.0740 - acc: 0.9825 - val_loss: 0.0894 - val_acc: 0.9822\n",
            "Epoch 8/10\n",
            "Epoch 8/10\n",
            "60000/60000 [==============================] - 3s 48us/step - loss: 0.0773 - acc: 0.9822 - val_loss: 0.1007 - val_acc: 0.9810\n",
            "60000/60000 [==============================] - 3s 48us/step - loss: 0.0773 - acc: 0.9822 - val_loss: 0.1007 - val_acc: 0.9810\n",
            "Epoch 9/10\n",
            "Epoch 9/10\n",
            "60000/60000 [==============================] - 3s 48us/step - loss: 0.0738 - acc: 0.9828 - val_loss: 0.1019 - val_acc: 0.9822\n",
            "60000/60000 [==============================] - 3s 48us/step - loss: 0.0738 - acc: 0.9828 - val_loss: 0.1019 - val_acc: 0.9822\n",
            "Epoch 10/10\n",
            "Epoch 10/10\n",
            "60000/60000 [==============================] - 3s 49us/step - loss: 0.0721 - acc: 0.9840 - val_loss: 0.1014 - val_acc: 0.9817\n",
            "60000/60000 [==============================] - 3s 49us/step - loss: 0.0721 - acc: 0.9840 - val_loss: 0.1014 - val_acc: 0.9817\n"
          ],
          "name": "stdout"
        },
        {
          "output_type": "execute_result",
          "data": {
            "text/plain": [
              "<keras.callbacks.History at 0x7f085609a710>"
            ]
          },
          "metadata": {
            "tags": []
          },
          "execution_count": 12
        }
      ]
    },
    {
      "metadata": {
        "id": "tflDMUBLP8DU",
        "colab_type": "code",
        "colab": {}
      },
      "cell_type": "code",
      "source": [
        ""
      ],
      "execution_count": 0,
      "outputs": []
    }
  ]
}